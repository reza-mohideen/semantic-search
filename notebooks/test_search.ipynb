{
 "cells": [
  {
   "cell_type": "code",
   "execution_count": 2,
   "metadata": {},
   "outputs": [],
   "source": [
    "import pinecone\n",
    "\n",
    "with open('../secrets', 'r') as fp:\n",
    "    API_KEY = fp.read()  # get api key app.pinecone.io\n",
    "\n",
    "pinecone.init(\n",
    "    api_key=API_KEY,\n",
    "    environment='us-west1-gcp'\n",
    ")\n",
    "\n",
    "index = pinecone.Index('nocd-search')"
   ]
  },
  {
   "cell_type": "code",
   "execution_count": 3,
   "metadata": {},
   "outputs": [
    {
     "name": "stderr",
     "output_type": "stream",
     "text": [
      "/home/rezamohideen/myProjects/semantic-search/.venv/lib/python3.8/site-packages/tqdm/auto.py:22: TqdmWarning: IProgress not found. Please update jupyter and ipywidgets. See https://ipywidgets.readthedocs.io/en/stable/user_install.html\n",
      "  from .autonotebook import tqdm as notebook_tqdm\n"
     ]
    },
    {
     "data": {
      "text/plain": [
       "SentenceTransformer(\n",
       "  (0): Transformer({'max_seq_length': 256, 'do_lower_case': False}) with Transformer model: DistilBertModel \n",
       "  (1): Pooling({'word_embedding_dimension': 768, 'pooling_mode_cls_token': True, 'pooling_mode_mean_tokens': False, 'pooling_mode_max_tokens': False, 'pooling_mode_mean_sqrt_len_tokens': False})\n",
       ")"
      ]
     },
     "execution_count": 3,
     "metadata": {},
     "output_type": "execute_result"
    }
   ],
   "source": [
    "from sentence_transformers import SentenceTransformer\n",
    "\n",
    "model = SentenceTransformer('msmarco-distilbert-base-tas-b', device='cpu')\n",
    "model.max_seq_length = 256\n",
    "\n",
    "model\n"
   ]
  },
  {
   "cell_type": "code",
   "execution_count": 5,
   "metadata": {},
   "outputs": [],
   "source": [
    "def convert_url(passage):\n",
    "    sep = passage.split(',')\n",
    "    start = sep[0].split(' ')[:4]\n",
    "    end = sep[-1].split(' ')[-4:]\n",
    "\n",
    "    start = '%20'.join(start)\n",
    "    end = '%20'.join(end)\n",
    "\n",
    "    return start + ',' + end\n",
    "\n",
    "def convert_url_v2(passage):\n",
    "    sep = passage.split(',')\n",
    "    start = sep[0].split(' ')[:4]\n",
    "    end = sep[-1].split(' ')[-4:]\n",
    "    if len(start) < 2:\n",
    "        end = sep[-1].split(' ')[-6:]\n",
    "\n",
    "    start = '%20'.join(start)\n",
    "    end = '%20'.join(end)\n",
    "\n",
    "    return start + ',' + end\n",
    "\n",
    "def query_db(query, model, index):\n",
    "    query_emb = model.encode(query, convert_to_tensor=True, show_progress_bar=False)\n",
    "    res = index.query(query_emb.tolist(), top_k=10, include_metadata=True)\n",
    "\n",
    "    nocd = 'https://www.treatmyocd.com'\n",
    "\n",
    "    print(f'Search Query: {query}\\n')\n",
    "    print('---------------------------------------------------------------------------------------------------------------------')\n",
    "    print('Results\\n')\n",
    "\n",
    "    \n",
    "    for item in res.matches:\n",
    "        print(f\"Article: {nocd}{item['metadata']['article_name']}#:~:text={convert_url(item['metadata']['text'])}\")\n",
    "        print(f\"Paragraph Header: {item['metadata']['paragraph_name']}\")\n",
    "        print(f\"{item['score']} {item['metadata']['text'][:150]}...\\n\")"
   ]
  },
  {
   "cell_type": "code",
   "execution_count": 7,
   "metadata": {},
   "outputs": [
    {
     "name": "stdout",
     "output_type": "stream",
     "text": [
      "Search Query: pocd\n",
      "\n",
      "---------------------------------------------------------------------------------------------------------------------\n",
      "Results\n",
      "\n",
      "Article: https://www.treatmyocd.com/blog/how-long-does-pocd-last-pedophilia-ocd-symptoms-treatment#:~:text=What%20is%20POCD%20and,how%20is%20it%20treated?\n",
      "Paragraph Header: What is POCD and how is it treated?\n",
      "110.135193 What is POCD and how is it treated?...\n",
      "\n",
      "Article: https://www.treatmyocd.com/blog/erp-is-effective-for-pocd#:~:text=For%20individuals%20with%20POCD,this%20might%20look%20like: \n",
      "Paragraph Header: \n",
      "108.642166 For individuals with POCD, this might look like: ...\n",
      "\n",
      "Article: https://www.treatmyocd.com/blog/pocd-arousal-not-sign-real-desire#:~:text=Why%20POCD%20Arousal%20Is,Sign%20of%20Real%20Desire\n",
      "Paragraph Header: title\n",
      "102.735527 Why POCD Arousal Is Not a Sign of Real Desire...\n",
      "\n",
      "Article: https://www.treatmyocd.com/blog/erp-is-effective-for-pocd#:~:text=These%20are%20just%20some,repeat%20in%20their%20mind. \n",
      "Paragraph Header: \n",
      "101.73465 These are just some of the obsessions that individuals with pedophilia OCD might experience. Pedophilia OCD, or POCD, a subtype of OCD, is characteriz...\n",
      "\n",
      "Article: https://www.treatmyocd.com/blog/erp-is-effective-for-pocd#:~:text=Unfortunately,%20for%20example. \n",
      "Paragraph Header: \n",
      "101.401894 Unfortunately, POCD is often misunderstood and misdiagnosed. The sense of shame that surrounds this particular subtype can discourage people with thes...\n",
      "\n",
      "Article: https://www.treatmyocd.com/blog/how-long-does-pocd-last-pedophilia-ocd-symptoms-treatment#:~:text=Pedophilia%20OCD,my%20thoughts%20next%20time?” \n",
      "Paragraph Header: What is POCD and how is it treated?\n",
      "101.304314 Pedophilia OCD, or POCD, is characterized by persistent, intrusive and unwanted sexual thoughts about children and/or teens (under 18) and the resulti...\n",
      "\n",
      "Article: https://www.treatmyocd.com/blog/pocd-arousal-not-sign-real-desire#:~:text=Like%20other%20forms%20of,their%20thoughts%20and%20actions. \n",
      "Paragraph Header: How is POCD treated? \n",
      "101.294518 Like other forms of obsessive-compulsive disorder, POCD can be successfully treated with exposure and response prevention (ERP) therapy. A form of cog...\n",
      "\n",
      "Article: https://www.treatmyocd.com/blog/pocd-symtoms-and-treatment#:~:text=The%20crux%20of%20POCD,little%20while.%20For%20example:\n",
      "Paragraph Header: Pedophilia vs. Pedophilia OCD\n",
      "101.170258 The crux of POCD is that people aren’t sure if they really would act on their thoughts. They never feel certain that can trust themselves, and are pro...\n",
      "\n",
      "Article: https://www.treatmyocd.com/blog/pocd-symtoms-and-treatment#:~:text=But%20another%20group%20responds,thoughts%20about%20children.%20\n",
      "Paragraph Header: Pedophilia vs. Pedophilia OCD\n",
      "101.13958 But another group responds very differently to these thoughts, which feel like a challenge to everything they believe they really are. They have a for...\n",
      "\n",
      "Article: https://www.treatmyocd.com/blog/pocd-arousal-not-sign-real-desire#:~:text=While%20pedophilia%20itself%20is,these%20thoughts%20extremely%20uncomfortable. \n",
      "Paragraph Header: What is POCD?\n",
      "101.021111 While pedophilia itself is defined as sexual attraction to children, pedophilia OCD or POCD is a subtype of OCD that causes fears or worries that one ...\n",
      "\n"
     ]
    }
   ],
   "source": [
    "from IPython.display import clear_output\n",
    "\n",
    "while True:\n",
    "    clear_output(wait=True)\n",
    "    query = input(\"Search NOCD: \")\n",
    "    if query == 'quit': break\n",
    "    query_db(query=query, model=model, index=index)"
   ]
  },
  {
   "cell_type": "code",
   "execution_count": null,
   "metadata": {},
   "outputs": [],
   "source": []
  },
  {
   "cell_type": "code",
   "execution_count": null,
   "metadata": {},
   "outputs": [],
   "source": []
  }
 ],
 "metadata": {
  "kernelspec": {
   "display_name": "Python 3.8.10 ('.venv': venv)",
   "language": "python",
   "name": "python3"
  },
  "language_info": {
   "codemirror_mode": {
    "name": "ipython",
    "version": 3
   },
   "file_extension": ".py",
   "mimetype": "text/x-python",
   "name": "python",
   "nbconvert_exporter": "python",
   "pygments_lexer": "ipython3",
   "version": "3.8.10"
  },
  "orig_nbformat": 4,
  "vscode": {
   "interpreter": {
    "hash": "3aeb7a6d19ab860373b358bac8da59b4defb6e9e5aa5a19e223a52758a341eea"
   }
  }
 },
 "nbformat": 4,
 "nbformat_minor": 2
}
