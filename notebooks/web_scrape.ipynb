{
 "cells": [
  {
   "cell_type": "markdown",
   "id": "b9ec8ee0",
   "metadata": {},
   "source": [
    "# Pre-Requisites"
   ]
  },
  {
   "cell_type": "code",
   "execution_count": null,
   "id": "8a8be4b7-26b5-49d5-a0fb-f8e45fa15c00",
   "metadata": {},
   "outputs": [],
   "source": [
    "!jupyter nbextension enable --py widgetsnbextension"
   ]
  },
  {
   "cell_type": "code",
   "execution_count": 1,
   "id": "37b6cd92-b1c2-426b-83cf-5eecd277a8d8",
   "metadata": {},
   "outputs": [],
   "source": [
    "from tqdm import tqdm\n",
    "from bs4 import BeautifulSoup as bs\n",
    "import requests"
   ]
  },
  {
   "cell_type": "code",
   "execution_count": 2,
   "id": "48b797cd-13db-488e-9ee6-be5295d90f98",
   "metadata": {},
   "outputs": [
    {
     "name": "stderr",
     "output_type": "stream",
     "text": [
      "100%|██████████| 3/3 [00:00<00:00,  4.43it/s]"
     ]
    },
    {
     "name": "stdout",
     "output_type": "stream",
     "text": [
      "243\n"
     ]
    },
    {
     "name": "stderr",
     "output_type": "stream",
     "text": [
      "\n"
     ]
    }
   ],
   "source": [
    "nocd = \"https://www.treatmyocd.com\"\n",
    "all_articles = \"https://www.treatmyocd.com/learn/blog\"\n",
    "blog_categories = set()\n",
    "\n",
    "resp = requests.get(all_articles)\n",
    "soup = bs(resp.text, \"html.parser\")\n",
    "for tag in soup.find_all(): \n",
    "    if tag.name == 'a' and 'href' in tag.attrs:\n",
    "        if 'blog/category' in tag['href']:\n",
    "            blog_categories.add(tag['href'])\n",
    "\n",
    "articles = set()\n",
    "for cat in tqdm(blog_categories):\n",
    "    resp = requests.get(nocd + cat)\n",
    "    soup = bs(resp.text, \"html.parser\")\n",
    "    for tag in soup.find_all(): \n",
    "        if tag.name == 'a' and 'href' in tag.attrs:\n",
    "            if 'blog/' in tag['href']:\n",
    "                articles.add(tag['href'])\n",
    "                \n",
    "print(len(articles))"
   ]
  },
  {
   "cell_type": "code",
   "execution_count": 3,
   "id": "3ba01012",
   "metadata": {},
   "outputs": [],
   "source": [
    "blog_text = ['p', 'h1', 'h2', 'h3', 'h4', 'h5', 'h6', None]\n",
    "paragraph_headings = ['h2', 'h3', 'h4', 'h5', 'h6']\n",
    "\n",
    "def extract_text_v2(soup, article_name):\n",
    "    article = soup.select('article')\n",
    "    article = article[0].select('div[class*=\"Post\"]')\n",
    "    title = [((article[0].find_all('h1'))[0].text, 'h1', 'title', article_name)]\n",
    "    body = soup.select('div[class*=\"Body\"]')\n",
    "\n",
    "    curr_paragraph = None\n",
    "    lines = []\n",
    "    for content in body[0].contents:\n",
    "        if content.name in blog_text:\n",
    "            try:\n",
    "                # get text contents\n",
    "                line = content.getText()\n",
    "                # ignore \\n characters and empty spaces\n",
    "                if len(line.split()) > 1:\n",
    "                    # append styles like bold (<em>), links (<a>), etc. to previous ine\n",
    "                    if content.name not in blog_text:\n",
    "                        lines[-1] += line\n",
    "                        continue\n",
    "                    # grab paragraph name\n",
    "                    if content.name in paragraph_headings:\n",
    "                        curr_paragraph = line\n",
    "\n",
    "                    lines.append((line, content.name, curr_paragraph, article_name))\n",
    "                    assert len(lines[-1]) == 4, f\"Line should only contain 4 objects; {article_name}\"\n",
    "            except Exception:\n",
    "                lines.append(content)\n",
    "\n",
    "            \n",
    "\n",
    "    # body = (body[0].text).split(\"\\n\")\n",
    "\n",
    "    return title + lines"
   ]
  },
  {
   "cell_type": "code",
   "execution_count": 4,
   "id": "fac6bb06-bac9-4ccc-b2c4-801a553f0a83",
   "metadata": {
    "scrolled": false
   },
   "outputs": [
    {
     "name": "stderr",
     "output_type": "stream",
     "text": [
      "100%|██████████| 243/243 [02:05<00:00,  1.93it/s]\n"
     ]
    }
   ],
   "source": [
    "blogs = []\n",
    "for article in tqdm(articles):\n",
    "    if article not in blog_categories:\n",
    "        # print(article)\n",
    "        resp = requests.get(nocd + article)\n",
    "        soup = bs(resp.text, \"html.parser\")\n",
    "        blog = extract_text_v2(soup, article)\n",
    "        blogs += blog\n",
    "\n"
   ]
  },
  {
   "cell_type": "code",
   "execution_count": 5,
   "id": "f452017a-f669-45af-b2f7-2f5c47d1f48b",
   "metadata": {},
   "outputs": [
    {
     "data": {
      "text/html": [
       "<div>\n",
       "<style scoped>\n",
       "    .dataframe tbody tr th:only-of-type {\n",
       "        vertical-align: middle;\n",
       "    }\n",
       "\n",
       "    .dataframe tbody tr th {\n",
       "        vertical-align: top;\n",
       "    }\n",
       "\n",
       "    .dataframe thead th {\n",
       "        text-align: right;\n",
       "    }\n",
       "</style>\n",
       "<table border=\"1\" class=\"dataframe\">\n",
       "  <thead>\n",
       "    <tr style=\"text-align: right;\">\n",
       "      <th></th>\n",
       "      <th>text</th>\n",
       "      <th>tag</th>\n",
       "      <th>paragraph</th>\n",
       "      <th>article</th>\n",
       "      <th>num_words</th>\n",
       "      <th>num_sentences</th>\n",
       "    </tr>\n",
       "  </thead>\n",
       "  <tbody>\n",
       "    <tr>\n",
       "      <th>0</th>\n",
       "      <td>How to Navigate the Unavoidable Arguments with...</td>\n",
       "      <td>h1</td>\n",
       "      <td>title</td>\n",
       "      <td>/blog/how-to-navigate-the-unavoidable-argument...</td>\n",
       "      <td>11</td>\n",
       "      <td>1</td>\n",
       "    </tr>\n",
       "    <tr>\n",
       "      <th>1</th>\n",
       "      <td>Children not listening, arguments, and disagre...</td>\n",
       "      <td>None</td>\n",
       "      <td>None</td>\n",
       "      <td>/blog/how-to-navigate-the-unavoidable-argument...</td>\n",
       "      <td>71</td>\n",
       "      <td>4</td>\n",
       "    </tr>\n",
       "    <tr>\n",
       "      <th>2</th>\n",
       "      <td>How to Avoid Arguments</td>\n",
       "      <td>h2</td>\n",
       "      <td>How to Avoid Arguments</td>\n",
       "      <td>/blog/how-to-navigate-the-unavoidable-argument...</td>\n",
       "      <td>4</td>\n",
       "      <td>1</td>\n",
       "    </tr>\n",
       "    <tr>\n",
       "      <th>3</th>\n",
       "      <td>Not everything needs to be a disagreement. If ...</td>\n",
       "      <td>p</td>\n",
       "      <td>How to Avoid Arguments</td>\n",
       "      <td>/blog/how-to-navigate-the-unavoidable-argument...</td>\n",
       "      <td>55</td>\n",
       "      <td>4</td>\n",
       "    </tr>\n",
       "    <tr>\n",
       "      <th>4</th>\n",
       "      <td>2.  It’s Not Your Fault</td>\n",
       "      <td>p</td>\n",
       "      <td>How to Avoid Arguments</td>\n",
       "      <td>/blog/how-to-navigate-the-unavoidable-argument...</td>\n",
       "      <td>5</td>\n",
       "      <td>2</td>\n",
       "    </tr>\n",
       "    <tr>\n",
       "      <th>5</th>\n",
       "      <td>It can be easy to blame yourself or try to fin...</td>\n",
       "      <td>p</td>\n",
       "      <td>How to Avoid Arguments</td>\n",
       "      <td>/blog/how-to-navigate-the-unavoidable-argument...</td>\n",
       "      <td>114</td>\n",
       "      <td>7</td>\n",
       "    </tr>\n",
       "    <tr>\n",
       "      <th>6</th>\n",
       "      <td>Although your parenting isn’t to blame for you...</td>\n",
       "      <td>p</td>\n",
       "      <td>How to Avoid Arguments</td>\n",
       "      <td>/blog/how-to-navigate-the-unavoidable-argument...</td>\n",
       "      <td>67</td>\n",
       "      <td>5</td>\n",
       "    </tr>\n",
       "    <tr>\n",
       "      <th>7</th>\n",
       "      <td>How to Navigate the Unavoidable Arguments</td>\n",
       "      <td>h2</td>\n",
       "      <td>How to Navigate the Unavoidable Arguments</td>\n",
       "      <td>/blog/how-to-navigate-the-unavoidable-argument...</td>\n",
       "      <td>6</td>\n",
       "      <td>1</td>\n",
       "    </tr>\n",
       "    <tr>\n",
       "      <th>8</th>\n",
       "      <td>Active listening is a skill which means it mus...</td>\n",
       "      <td>p</td>\n",
       "      <td>How to Navigate the Unavoidable Arguments</td>\n",
       "      <td>/blog/how-to-navigate-the-unavoidable-argument...</td>\n",
       "      <td>68</td>\n",
       "      <td>5</td>\n",
       "    </tr>\n",
       "    <tr>\n",
       "      <th>9</th>\n",
       "      <td>2. Don’t Try to Fix or Cure OCD</td>\n",
       "      <td>p</td>\n",
       "      <td>How to Navigate the Unavoidable Arguments</td>\n",
       "      <td>/blog/how-to-navigate-the-unavoidable-argument...</td>\n",
       "      <td>8</td>\n",
       "      <td>2</td>\n",
       "    </tr>\n",
       "  </tbody>\n",
       "</table>\n",
       "</div>"
      ],
      "text/plain": [
       "                                                text   tag  \\\n",
       "0  How to Navigate the Unavoidable Arguments with...    h1   \n",
       "1  Children not listening, arguments, and disagre...  None   \n",
       "2                             How to Avoid Arguments    h2   \n",
       "3  Not everything needs to be a disagreement. If ...     p   \n",
       "4                            2.  It’s Not Your Fault     p   \n",
       "5  It can be easy to blame yourself or try to fin...     p   \n",
       "6  Although your parenting isn’t to blame for you...     p   \n",
       "7          How to Navigate the Unavoidable Arguments    h2   \n",
       "8  Active listening is a skill which means it mus...     p   \n",
       "9                    2. Don’t Try to Fix or Cure OCD     p   \n",
       "\n",
       "                                   paragraph  \\\n",
       "0                                      title   \n",
       "1                                       None   \n",
       "2                     How to Avoid Arguments   \n",
       "3                     How to Avoid Arguments   \n",
       "4                     How to Avoid Arguments   \n",
       "5                     How to Avoid Arguments   \n",
       "6                     How to Avoid Arguments   \n",
       "7  How to Navigate the Unavoidable Arguments   \n",
       "8  How to Navigate the Unavoidable Arguments   \n",
       "9  How to Navigate the Unavoidable Arguments   \n",
       "\n",
       "                                             article  num_words  num_sentences  \n",
       "0  /blog/how-to-navigate-the-unavoidable-argument...         11              1  \n",
       "1  /blog/how-to-navigate-the-unavoidable-argument...         71              4  \n",
       "2  /blog/how-to-navigate-the-unavoidable-argument...          4              1  \n",
       "3  /blog/how-to-navigate-the-unavoidable-argument...         55              4  \n",
       "4  /blog/how-to-navigate-the-unavoidable-argument...          5              2  \n",
       "5  /blog/how-to-navigate-the-unavoidable-argument...        114              7  \n",
       "6  /blog/how-to-navigate-the-unavoidable-argument...         67              5  \n",
       "7  /blog/how-to-navigate-the-unavoidable-argument...          6              1  \n",
       "8  /blog/how-to-navigate-the-unavoidable-argument...         68              5  \n",
       "9  /blog/how-to-navigate-the-unavoidable-argument...          8              2  "
      ]
     },
     "execution_count": 5,
     "metadata": {},
     "output_type": "execute_result"
    }
   ],
   "source": [
    "import pandas as pd \n",
    "\n",
    "df = pd.DataFrame(blogs, columns=['text', 'tag', 'paragraph', 'article'])\n",
    "df['num_words'] = df['text'].str.split().str.len()\n",
    "df['num_sentences'] = df['text'].str.split('.').str.len()\n",
    "df.head(10)"
   ]
  },
  {
   "cell_type": "code",
   "execution_count": 20,
   "id": "832c762f",
   "metadata": {},
   "outputs": [],
   "source": [
    "df.to_csv('../datasets/blogs_9_20_2022.csv')"
   ]
  },
  {
   "cell_type": "code",
   "execution_count": null,
   "id": "95eebff4",
   "metadata": {},
   "outputs": [],
   "source": []
  }
 ],
 "metadata": {
  "kernelspec": {
   "display_name": "Python 3.8.10 ('venv': venv)",
   "language": "python",
   "name": "python3"
  },
  "language_info": {
   "codemirror_mode": {
    "name": "ipython",
    "version": 3
   },
   "file_extension": ".py",
   "mimetype": "text/x-python",
   "name": "python",
   "nbconvert_exporter": "python",
   "pygments_lexer": "ipython3",
   "version": "3.8.10"
  },
  "vscode": {
   "interpreter": {
    "hash": "064c034f0f64e9400890b622a62d848169ff5f30e48a68a58b1f34188e0a2fb6"
   }
  }
 },
 "nbformat": 4,
 "nbformat_minor": 5
}
