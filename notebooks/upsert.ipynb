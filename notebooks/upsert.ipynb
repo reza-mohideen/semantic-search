{
 "cells": [
  {
   "cell_type": "markdown",
   "metadata": {},
   "source": [
    "# Pre-Requisites"
   ]
  },
  {
   "cell_type": "code",
   "execution_count": null,
   "metadata": {},
   "outputs": [],
   "source": [
    "!pip3 install -U sentence-transformers"
   ]
  },
  {
   "cell_type": "code",
   "execution_count": null,
   "metadata": {},
   "outputs": [],
   "source": [
    "!pip3 install pinecone-client pandas"
   ]
  },
  {
   "cell_type": "markdown",
   "metadata": {},
   "source": [
    "## Query Generation"
   ]
  },
  {
   "cell_type": "code",
   "execution_count": 1,
   "metadata": {},
   "outputs": [
    {
     "data": {
      "text/html": [
       "<div>\n",
       "<style scoped>\n",
       "    .dataframe tbody tr th:only-of-type {\n",
       "        vertical-align: middle;\n",
       "    }\n",
       "\n",
       "    .dataframe tbody tr th {\n",
       "        vertical-align: top;\n",
       "    }\n",
       "\n",
       "    .dataframe thead th {\n",
       "        text-align: right;\n",
       "    }\n",
       "</style>\n",
       "<table border=\"1\" class=\"dataframe\">\n",
       "  <thead>\n",
       "    <tr style=\"text-align: right;\">\n",
       "      <th></th>\n",
       "      <th>Unnamed: 0</th>\n",
       "      <th>query</th>\n",
       "      <th>passage</th>\n",
       "    </tr>\n",
       "  </thead>\n",
       "  <tbody>\n",
       "    <tr>\n",
       "      <th>0</th>\n",
       "      <td>0</td>\n",
       "      <td>what does ocd mean</td>\n",
       "      <td>One of the most helpful things in my own recov...</td>\n",
       "    </tr>\n",
       "    <tr>\n",
       "      <th>1</th>\n",
       "      <td>1</td>\n",
       "      <td>is it good to talk about an ocd</td>\n",
       "      <td>One of the most helpful things in my own recov...</td>\n",
       "    </tr>\n",
       "    <tr>\n",
       "      <th>2</th>\n",
       "      <td>2</td>\n",
       "      <td>does ocd really help recovery</td>\n",
       "      <td>One of the most helpful things in my own recov...</td>\n",
       "    </tr>\n",
       "    <tr>\n",
       "      <th>3</th>\n",
       "      <td>3</td>\n",
       "      <td>what is being a positive person</td>\n",
       "      <td>There is something powerful about knowing that...</td>\n",
       "    </tr>\n",
       "    <tr>\n",
       "      <th>4</th>\n",
       "      <td>4</td>\n",
       "      <td>who is an inspirational person</td>\n",
       "      <td>There is something powerful about knowing that...</td>\n",
       "    </tr>\n",
       "  </tbody>\n",
       "</table>\n",
       "</div>"
      ],
      "text/plain": [
       "   Unnamed: 0                            query  \\\n",
       "0           0               what does ocd mean   \n",
       "1           1  is it good to talk about an ocd   \n",
       "2           2    does ocd really help recovery   \n",
       "3           3  what is being a positive person   \n",
       "4           4   who is an inspirational person   \n",
       "\n",
       "                                             passage  \n",
       "0  One of the most helpful things in my own recov...  \n",
       "1  One of the most helpful things in my own recov...  \n",
       "2  One of the most helpful things in my own recov...  \n",
       "3  There is something powerful about knowing that...  \n",
       "4  There is something powerful about knowing that...  "
      ]
     },
     "execution_count": 1,
     "metadata": {},
     "output_type": "execute_result"
    }
   ],
   "source": [
    "import pandas as pd\n",
    "\n",
    "query_passage_df = pd.read_csv('datasets/query_passage.csv')\n",
    "query_passage_df.head()"
   ]
  },
  {
   "cell_type": "markdown",
   "metadata": {},
   "source": [
    "## Negative Mining"
   ]
  },
  {
   "cell_type": "code",
   "execution_count": 2,
   "metadata": {},
   "outputs": [
    {
     "name": "stderr",
     "output_type": "stream",
     "text": [
      "/home/rezamohideen/myProjects/semantic-search/ENV/lib/python3.8/site-packages/tqdm/auto.py:22: TqdmWarning: IProgress not found. Please update jupyter and ipywidgets. See https://ipywidgets.readthedocs.io/en/stable/user_install.html\n",
      "  from .autonotebook import tqdm as notebook_tqdm\n"
     ]
    },
    {
     "data": {
      "text/plain": [
       "SentenceTransformer(\n",
       "  (0): Transformer({'max_seq_length': 256, 'do_lower_case': False}) with Transformer model: DistilBertModel \n",
       "  (1): Pooling({'word_embedding_dimension': 768, 'pooling_mode_cls_token': True, 'pooling_mode_mean_tokens': False, 'pooling_mode_max_tokens': False, 'pooling_mode_mean_sqrt_len_tokens': False})\n",
       ")"
      ]
     },
     "execution_count": 2,
     "metadata": {},
     "output_type": "execute_result"
    }
   ],
   "source": [
    "from sentence_transformers import SentenceTransformer\n",
    "\n",
    "model = SentenceTransformer('msmarco-distilbert-base-tas-b')\n",
    "model.max_seq_length = 256\n",
    "\n",
    "model\n"
   ]
  },
  {
   "cell_type": "code",
   "execution_count": 3,
   "metadata": {},
   "outputs": [],
   "source": [
    "import pinecone\n",
    "\n",
    "with open('secrets', 'r') as fp:\n",
    "    API_KEY = fp.read()  # get api key app.pinecone.io\n",
    "\n",
    "pinecone.init(\n",
    "    api_key=API_KEY,\n",
    "    environment='us-west1-gcp'\n",
    ")\n",
    "# create a new genq index if does not already exist\n",
    "if 'negative-mine' not in pinecone.list_indexes():\n",
    "    pinecone.create_index(\n",
    "        'negative-mine',\n",
    "        dimension=model.get_sentence_embedding_dimension(),\n",
    "        metric='dotproduct',\n",
    "        pods=1  # increase for faster mining\n",
    "    )\n",
    "# connect\n",
    "index = pinecone.Index('negative-mine')"
   ]
  },
  {
   "cell_type": "code",
   "execution_count": 4,
   "metadata": {},
   "outputs": [],
   "source": [
    "def get_pairs(df):\n",
    "    pairs = []\n",
    "    for index, row in df.iterrows():\n",
    "        pairs.append((row['query'], row['passage']))\n",
    "\n",
    "    return pairs"
   ]
  },
  {
   "cell_type": "code",
   "execution_count": null,
   "metadata": {},
   "outputs": [],
   "source": [
    "# upload to pinecoe DO NOT RUN\n",
    "\n",
    "from tqdm import tqdm\n",
    "import numpy as np\n",
    "\n",
    "pairs_gen = get_pairs(query_passage_df)  # generator that loads (query, passage) pairs\n",
    "blogs = pd.read_csv('datasets/blogs.csv')\n",
    "blogs = blogs.replace({np.nan: None})\n",
    "\n",
    "\n",
    "pairs = []\n",
    "to_upsert = []\n",
    "passage_batch = []\n",
    "id_batch = []\n",
    "metadata_batch = []\n",
    "batch_size = 64  # encode and upload size\n",
    "\n",
    "for i, (query, passage) in enumerate(tqdm(pairs_gen)):\n",
    "    pairs.append((query, passage))\n",
    "    # we do this to avoid passage duplication in the vector DB\n",
    "    if passage not in passage_batch: \n",
    "        passage_batch.append(passage)\n",
    "        id_batch.append(str(i))\n",
    "\n",
    "        metadata = blogs[blogs['text'] == passage]\n",
    "        par = metadata.iloc[0]['paragraph'] if metadata.iloc[0]['paragraph'] else ''\n",
    "        article = metadata.iloc[0]['article'] if metadata.iloc[0]['article'] else ''\n",
    "        \n",
    "        metadata_batch.append({'paragraph': par, 'article': article})\n",
    "    # on reaching batch_size, we encode and upsert\n",
    "    if len(passage_batch) == batch_size:\n",
    "        embeds = model.encode(passage_batch).tolist()\n",
    "        # upload to index\n",
    "        index.upsert(vectors=list(zip(id_batch, embeds, metadata_batch)))\n",
    "        # refresh batches\n",
    "        passage_batch = []\n",
    "        id_batch = []\n",
    "        metadata_batch = []\n",
    "        \n",
    "# check number of vectors in the index\n",
    "index.describe_index_stats()"
   ]
  },
  {
   "cell_type": "markdown",
   "metadata": {},
   "source": [
    "### Test Base Model"
   ]
  },
  {
   "cell_type": "code",
   "execution_count": 6,
   "metadata": {},
   "outputs": [],
   "source": [
    "import pinecone\n",
    "\n",
    "with open('secrets', 'r') as fp:\n",
    "    API_KEY = fp.read()  # get api key app.pinecone.io\n",
    "\n",
    "pinecone.init(\n",
    "    api_key=API_KEY,\n",
    "    environment='us-west1-gcp'\n",
    ")\n",
    "index = pinecone.Index('negative-mine')"
   ]
  },
  {
   "cell_type": "code",
   "execution_count": 17,
   "metadata": {},
   "outputs": [],
   "source": [
    "def convert_url(passage):\n",
    "    sep = passage.split(',')\n",
    "    start = sep[0].split(' ')[:4]\n",
    "    end = sep[-1].split(' ')[-4:]\n",
    "\n",
    "    start = '%20'.join(start)\n",
    "    end = '%20'.join(end)\n",
    "\n",
    "    return start + ',' + end\n",
    "\n",
    "def convert_url_v2(passage):\n",
    "    sep = passage.split(',')\n",
    "    start = sep[0].split(' ')[:4]\n",
    "    end = sep[-1].split(' ')[-4:]\n",
    "    if len(start) < 2:\n",
    "        end = sep[-1].split(' ')[-6:]\n",
    "\n",
    "    start = '%20'.join(start)\n",
    "    end = '%20'.join(end)\n",
    "\n",
    "    return start + ',' + end\n",
    "\n",
    "def query_db(query, model, index, passages):\n",
    "    query_emb = model.encode(query, convert_to_tensor=True, show_progress_bar=False)\n",
    "    res = index.query(query_emb.tolist(), top_k=10, include_metadata=True)\n",
    "\n",
    "    nocd = 'https://www.treatmyocd.com'\n",
    "\n",
    "    print(f'Search Query: {query}\\n')\n",
    "    print('---------------------------------------------------------------------------------------------------------------------')\n",
    "    print('Results\\n')\n",
    "    for item in res.matches:\n",
    "        print(f\"Article: {nocd}{item['metadata']['article']}#:~:text={convert_url(passage_dict[int(item['id'])])}\")\n",
    "        print(f\"Paragraph Header: {item['metadata']['paragraph']}\")\n",
    "        print(f\"{item['score']} {passage_dict[int(item['id'])]}...\\n\")"
   ]
  },
  {
   "cell_type": "code",
   "execution_count": 19,
   "metadata": {},
   "outputs": [
    {
     "name": "stdout",
     "output_type": "stream",
     "text": [
      "Search Query: pocd symptoms\n",
      "\n",
      "---------------------------------------------------------------------------------------------------------------------\n",
      "Results\n",
      "\n",
      "Article: https://www.treatmyocd.com/blog/erp-is-effective-for-pocd#:~:text=For%20individuals%20with%20POCD,this%20might%20look%20like: \n",
      "Paragraph Header: \n",
      "107.378708 For individuals with POCD, this might look like: ...\n",
      "\n",
      "Article: https://www.treatmyocd.com/blog/pocd-symtoms-and-treatment#:~:text=But%20another%20group%20responds,thoughts%20about%20children.%20\n",
      "Paragraph Header: Pedophilia vs. Pedophilia OCD\n",
      "100.898842 But another group responds very differently to these thoughts, which feel like a challenge to everything they believe they really are. They have a form of obsessive-compulsive disorder (OCD) referred to as pedophilia OCD, or POCD. Subtypes like POCD aren’t distinct conditions—they’re convenient ways of referring to a specific, common set of OCD symptoms. Like any subtype, POCD involves obsessions (intrusive, unwanted thoughts) and compulsions (repetitive behaviors aimed at getting rid of the distress caused by obsessions). But with POCD, symptoms follow a very specific theme: unwanted sexual thoughts about children. ...\n",
      "\n",
      "Article: https://www.treatmyocd.com/blog/a-quick-guide-to-some-common-ocd-subtypes#:~:text=If%20you%20have%20POCD,step%20to%20receiving%20help.\n",
      "Paragraph Header: Pedophilia OCD\n",
      "100.103897 If you have POCD, you may feel uncertain as to whether you really would act on your thoughts. Nonetheless, it’s likely that you feel you can’t trust yourself. You may compulsively act to diminish the risk of acting on your obsessions. Because of the shame associated with your obsessions, you might feel uncomfortable disclosing your symptoms to your therapist. You’re not alone in this — research shows that POCD is common but often undiagnosed. While it’s understandable to fear the repercussions of telling someone about your unwanted thoughts, it is the first step to receiving help....\n",
      "\n",
      "Article: https://www.treatmyocd.com/blog/what-is-obsessive-compulsive-disorder-ocd-symptoms-meaning-treatment#:~:text=Because%20people%20with%20OCD,a%20sense%20of%20hopelessness.\n",
      "Paragraph Header: Emotional and physical symptoms of OCD: What kind of distress can occur?\n",
      "99.4121399 Because people with OCD spend most of their day feeling like they have to make sure something bad won’t happen, a number of emotional symptoms can arise. Among the most common are trouble focusing, irritability, anger, frustration, jumpiness, guilt, shame, feelings of dread and a sense of hopelessness....\n",
      "\n",
      "Article: https://www.treatmyocd.com/blog/erp-is-effective-for-pocd#:~:text=Unfortunately,%20for%20example. \n",
      "Paragraph Header: \n",
      "99.383194 Unfortunately, POCD is often misunderstood and misdiagnosed. The sense of shame that surrounds this particular subtype can discourage people with these obsessions from seeking treatment. Even when they are in treatment, individuals might be scared to fully disclose their obsessions due to fears that they will be reported to law enforcement or that their children will be taken from them, for example. ...\n",
      "\n",
      "Article: https://www.treatmyocd.com/blog/erp-is-effective-for-pocd#:~:text=If%20you%20are%20experiencing,OCD%20and%20successfully%20recovered.\n",
      "Paragraph Header: \n",
      "99.1899109 If you are experiencing the symptoms of POCD, then please consider giving NOCD a call. A free 15-minute call can put you on the path to ERP with a qualified and affordable ERP specialist. You can also join our POCD community and get 24/7 access to personalized self-management tools built by people who have been through OCD and successfully recovered....\n",
      "\n",
      "Article: https://www.treatmyocd.com/blog/can-ocd-make-you-angry-anger-management-fear#:~:text=Obsessive-compulsive%20disorder%20(OCD)%20is,OCD%20experience%20anger%20attacks.\n",
      "Paragraph Header: \n",
      "99.0259476 Obsessive-compulsive disorder (OCD) is marked by a cycle of unwanted, intrusive thoughts (obsessions) and ritualistic behaviors (compulsions) and can cause a wide range of symptoms in patients. If you or a loved one has OCD, these symptoms likely include bouts of anger or rage. You’re not alone in this: One small study found that 50% of patients with OCD experience anger attacks....\n",
      "\n",
      "Article: https://www.treatmyocd.com/blog/erp-is-effective-for-pocd#:~:text=These%20are%20just%20some,repeat%20in%20their%20mind. \n",
      "Paragraph Header: \n",
      "98.8837891 These are just some of the obsessions that individuals with pedophilia OCD might experience. Pedophilia OCD, or POCD, a subtype of OCD, is characterized by the presence of unwanted thoughts, images, and/or urges of a sexual nature related to children as well as behaviors intended to decrease the distress caused by these thoughts, images, and urges. People with POCD are distinctly different from pedophiles in that these thoughts are morally repugnant to them. Unlike pedophiles, who fantasize about sexual interactions with children (and find these fantasies pleasurable), people with POCD experience these thoughts like a relentless horror film on repeat in their mind. ...\n",
      "\n",
      "Article: https://www.treatmyocd.com/blog/pocd-symtoms-and-treatment#:~:text=Research%20suggests%20that%20POCD,difficult%20stories.%20%20\n",
      "Paragraph Header: Pedophilia vs. Pedophilia OCD\n",
      "98.0112762 Research suggests that POCD, while common among people with OCD, is unnoticed and misdiagnosed in most patients. This suggests that the shame surrounding these thoughts is so strong that people don’t even want to tell their therapists. That’s why we need brave people to set a precedent and share their difficult stories.  ...\n",
      "\n",
      "Article: https://www.treatmyocd.com/blog/how-to-tell-if-your-therapist-is-making-your-ocd-worse#:~:text=Symptoms%20of%20anxiety%20and,to%20make%20progress%20clinically.”\n",
      "Paragraph Header: The signs to look out for\n",
      "98.0037 Symptoms of anxiety and depression commonly co-occur with OCD, and they’re frequently caused by OCD going untreated. According to Dr. Patrick B. McGrath, NOCD’s Chief Clinical Officer, “While it’s technically correct to say that someone suffering with OCD may also have anxiety, the root cause of the suffering is often obsessions that may include themes of guilt, shame, disgust, or other uncomfortable feelings. If you don’t address these concerns it’s tough to make progress clinically.”...\n",
      "\n"
     ]
    }
   ],
   "source": [
    "pairs_gen = get_pairs(query_passage_df)\n",
    "passage_dict = {i: p for i, (q, p) in enumerate(pairs_gen)}\n",
    "\n",
    "from IPython.display import clear_output\n",
    "\n",
    "while True:\n",
    "    clear_output(wait=True)\n",
    "    query = input(\"Search NOCD: \")\n",
    "    if query == 'quit': break\n",
    "    query_db(query=query, model=model, index=index, passages=passage_dict)"
   ]
  },
  {
   "cell_type": "markdown",
   "metadata": {},
   "source": []
  }
 ],
 "metadata": {
  "kernelspec": {
   "display_name": "Python 3.8.10 ('ENV': venv)",
   "language": "python",
   "name": "python3"
  },
  "language_info": {
   "codemirror_mode": {
    "name": "ipython",
    "version": 3
   },
   "file_extension": ".py",
   "mimetype": "text/x-python",
   "name": "python",
   "nbconvert_exporter": "python",
   "pygments_lexer": "ipython3",
   "version": "3.8.10"
  },
  "vscode": {
   "interpreter": {
    "hash": "876a2fd22e9efeae2400b15fdef46235738e26446a244235c52059b002c44980"
   }
  }
 },
 "nbformat": 4,
 "nbformat_minor": 2
}
