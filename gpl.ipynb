{
 "cells": [
  {
   "cell_type": "markdown",
   "metadata": {},
   "source": [
    "# Pre-Requisites"
   ]
  },
  {
   "cell_type": "code",
   "execution_count": null,
   "metadata": {},
   "outputs": [],
   "source": [
    "!pip3 install -U sentence-transformers"
   ]
  },
  {
   "cell_type": "code",
   "execution_count": null,
   "metadata": {},
   "outputs": [],
   "source": [
    "!pip3 install pinecone-client pandas"
   ]
  },
  {
   "cell_type": "markdown",
   "metadata": {},
   "source": [
    "## Query Generation"
   ]
  },
  {
   "cell_type": "code",
   "execution_count": 1,
   "metadata": {},
   "outputs": [
    {
     "data": {
      "text/html": [
       "<div>\n",
       "<style scoped>\n",
       "    .dataframe tbody tr th:only-of-type {\n",
       "        vertical-align: middle;\n",
       "    }\n",
       "\n",
       "    .dataframe tbody tr th {\n",
       "        vertical-align: top;\n",
       "    }\n",
       "\n",
       "    .dataframe thead th {\n",
       "        text-align: right;\n",
       "    }\n",
       "</style>\n",
       "<table border=\"1\" class=\"dataframe\">\n",
       "  <thead>\n",
       "    <tr style=\"text-align: right;\">\n",
       "      <th></th>\n",
       "      <th>Unnamed: 0</th>\n",
       "      <th>query</th>\n",
       "      <th>passage</th>\n",
       "    </tr>\n",
       "  </thead>\n",
       "  <tbody>\n",
       "    <tr>\n",
       "      <th>0</th>\n",
       "      <td>0</td>\n",
       "      <td>what does ocd mean</td>\n",
       "      <td>One of the most helpful things in my own recov...</td>\n",
       "    </tr>\n",
       "    <tr>\n",
       "      <th>1</th>\n",
       "      <td>1</td>\n",
       "      <td>is it good to talk about an ocd</td>\n",
       "      <td>One of the most helpful things in my own recov...</td>\n",
       "    </tr>\n",
       "    <tr>\n",
       "      <th>2</th>\n",
       "      <td>2</td>\n",
       "      <td>does ocd really help recovery</td>\n",
       "      <td>One of the most helpful things in my own recov...</td>\n",
       "    </tr>\n",
       "    <tr>\n",
       "      <th>3</th>\n",
       "      <td>3</td>\n",
       "      <td>what is being a positive person</td>\n",
       "      <td>There is something powerful about knowing that...</td>\n",
       "    </tr>\n",
       "    <tr>\n",
       "      <th>4</th>\n",
       "      <td>4</td>\n",
       "      <td>who is an inspirational person</td>\n",
       "      <td>There is something powerful about knowing that...</td>\n",
       "    </tr>\n",
       "  </tbody>\n",
       "</table>\n",
       "</div>"
      ],
      "text/plain": [
       "   Unnamed: 0                            query  \\\n",
       "0           0               what does ocd mean   \n",
       "1           1  is it good to talk about an ocd   \n",
       "2           2    does ocd really help recovery   \n",
       "3           3  what is being a positive person   \n",
       "4           4   who is an inspirational person   \n",
       "\n",
       "                                             passage  \n",
       "0  One of the most helpful things in my own recov...  \n",
       "1  One of the most helpful things in my own recov...  \n",
       "2  One of the most helpful things in my own recov...  \n",
       "3  There is something powerful about knowing that...  \n",
       "4  There is something powerful about knowing that...  "
      ]
     },
     "execution_count": 1,
     "metadata": {},
     "output_type": "execute_result"
    }
   ],
   "source": [
    "import pandas as pd\n",
    "\n",
    "query_passage_df = pd.read_csv('datasets/query_passage.csv')\n",
    "query_passage_df.head()"
   ]
  },
  {
   "cell_type": "markdown",
   "metadata": {},
   "source": [
    "## Negative Mining"
   ]
  },
  {
   "cell_type": "code",
   "execution_count": 2,
   "metadata": {},
   "outputs": [
    {
     "name": "stderr",
     "output_type": "stream",
     "text": [
      "/home/ubuntu/gitrepos/semantic-search/ENV/lib/python3.8/site-packages/tqdm/auto.py:22: TqdmWarning: IProgress not found. Please update jupyter and ipywidgets. See https://ipywidgets.readthedocs.io/en/stable/user_install.html\n",
      "  from .autonotebook import tqdm as notebook_tqdm\n"
     ]
    },
    {
     "data": {
      "text/plain": [
       "SentenceTransformer(\n",
       "  (0): Transformer({'max_seq_length': 256, 'do_lower_case': False}) with Transformer model: DistilBertModel \n",
       "  (1): Pooling({'word_embedding_dimension': 768, 'pooling_mode_cls_token': True, 'pooling_mode_mean_tokens': False, 'pooling_mode_max_tokens': False, 'pooling_mode_mean_sqrt_len_tokens': False})\n",
       ")"
      ]
     },
     "execution_count": 2,
     "metadata": {},
     "output_type": "execute_result"
    }
   ],
   "source": [
    "from sentence_transformers import SentenceTransformer\n",
    "\n",
    "model = SentenceTransformer('msmarco-distilbert-base-tas-b')\n",
    "model.max_seq_length = 256\n",
    "\n",
    "model\n"
   ]
  },
  {
   "cell_type": "code",
   "execution_count": 39,
   "metadata": {},
   "outputs": [],
   "source": [
    "import pinecone\n",
    "\n",
    "with open('secrets', 'r') as fp:\n",
    "    API_KEY = fp.read()  # get api key app.pinecone.io\n",
    "\n",
    "pinecone.init(\n",
    "    api_key=API_KEY,\n",
    "    environment='us-west1-gcp'\n",
    ")\n",
    "# create a new genq index if does not already exist\n",
    "if 'negative-mine' not in pinecone.list_indexes():\n",
    "    pinecone.create_index(\n",
    "        'negative-mine',\n",
    "        dimension=model.get_sentence_embedding_dimension(),\n",
    "        metric='dotproduct',\n",
    "        pods=1  # increase for faster mining\n",
    "    )\n",
    "# connect\n",
    "index = pinecone.Index('negative-mine')"
   ]
  },
  {
   "cell_type": "code",
   "execution_count": 15,
   "metadata": {},
   "outputs": [],
   "source": [
    "def get_pairs(df):\n",
    "    pairs = []\n",
    "    for index, row in df.iterrows():\n",
    "        pairs.append((row['query'], row['passage']))\n",
    "\n",
    "    return pairs"
   ]
  },
  {
   "cell_type": "code",
   "execution_count": 43,
   "metadata": {},
   "outputs": [
    {
     "name": "stderr",
     "output_type": "stream",
     "text": [
      "100%|████████████████████████████████████████████████████████████████████████████████████████████████████████████████████████████████████████████████████| 10752/10752 [00:51<00:00, 209.34it/s]\n"
     ]
    },
    {
     "data": {
      "text/plain": [
       "{'dimension': 768,\n",
       " 'index_fullness': 0.0,\n",
       " 'namespaces': {'': {'vector_count': 3584}},\n",
       " 'total_vector_count': 3584}"
      ]
     },
     "execution_count": 43,
     "metadata": {},
     "output_type": "execute_result"
    }
   ],
   "source": [
    "from tqdm import tqdm\n",
    "import numpy as np\n",
    "\n",
    "pairs_gen = get_pairs(query_passage_df)  # generator that loads (query, passage) pairs\n",
    "blogs = pd.read_csv('datasets/blogs.csv')\n",
    "blogs = blogs.replace({np.nan: None})\n",
    "\n",
    "\n",
    "pairs = []\n",
    "to_upsert = []\n",
    "passage_batch = []\n",
    "id_batch = []\n",
    "metadata_batch = []\n",
    "batch_size = 64  # encode and upload size\n",
    "\n",
    "for i, (query, passage) in enumerate(tqdm(pairs_gen)):\n",
    "    pairs.append((query, passage))\n",
    "    # we do this to avoid passage duplication in the vector DB\n",
    "    if passage not in passage_batch: \n",
    "        passage_batch.append(passage)\n",
    "        id_batch.append(str(i))\n",
    "\n",
    "        metadata = blogs[blogs['text'] == passage]\n",
    "        par = metadata.iloc[0]['paragraph'] if metadata.iloc[0]['paragraph'] else ''\n",
    "        article = metadata.iloc[0]['article'] if metadata.iloc[0]['article'] else ''\n",
    "        \n",
    "        metadata_batch.append({'paragraph': par, 'article': article})\n",
    "    # on reaching batch_size, we encode and upsert\n",
    "    if len(passage_batch) == batch_size:\n",
    "        embeds = model.encode(passage_batch).tolist()\n",
    "        # upload to index\n",
    "        index.upsert(vectors=list(zip(id_batch, embeds, metadata_batch)))\n",
    "        # refresh batches\n",
    "        passage_batch = []\n",
    "        id_batch = []\n",
    "        metadata_batch = []\n",
    "        \n",
    "# check number of vectors in the index\n",
    "index.describe_index_stats()"
   ]
  },
  {
   "cell_type": "code",
   "execution_count": null,
   "metadata": {},
   "outputs": [],
   "source": []
  }
 ],
 "metadata": {
  "kernelspec": {
   "display_name": "Python 3 (ipykernel)",
   "language": "python",
   "name": "python3"
  },
  "language_info": {
   "codemirror_mode": {
    "name": "ipython",
    "version": 3
   },
   "file_extension": ".py",
   "mimetype": "text/x-python",
   "name": "python",
   "nbconvert_exporter": "python",
   "pygments_lexer": "ipython3",
   "version": "3.8.10"
  },
  "vscode": {
   "interpreter": {
    "hash": "9bd96fd85672b97e75b983f15d31fe51cf6cc10f3228710fe481e597504a514a"
   }
  }
 },
 "nbformat": 4,
 "nbformat_minor": 2
}
