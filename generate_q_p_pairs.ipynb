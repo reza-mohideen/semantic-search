{
 "cells": [
  {
   "cell_type": "code",
   "execution_count": 1,
   "id": "d9962a8a",
   "metadata": {},
   "outputs": [],
   "source": [
    "import pandas as pd"
   ]
  },
  {
   "cell_type": "code",
   "execution_count": 2,
   "id": "e8af5309",
   "metadata": {},
   "outputs": [
    {
     "data": {
      "text/html": [
       "<div>\n",
       "<style scoped>\n",
       "    .dataframe tbody tr th:only-of-type {\n",
       "        vertical-align: middle;\n",
       "    }\n",
       "\n",
       "    .dataframe tbody tr th {\n",
       "        vertical-align: top;\n",
       "    }\n",
       "\n",
       "    .dataframe thead th {\n",
       "        text-align: right;\n",
       "    }\n",
       "</style>\n",
       "<table border=\"1\" class=\"dataframe\">\n",
       "  <thead>\n",
       "    <tr style=\"text-align: right;\">\n",
       "      <th></th>\n",
       "      <th>Unnamed: 0</th>\n",
       "      <th>text</th>\n",
       "      <th>tag</th>\n",
       "      <th>paragraph</th>\n",
       "      <th>article</th>\n",
       "      <th>num_words</th>\n",
       "      <th>num_sentences</th>\n",
       "    </tr>\n",
       "  </thead>\n",
       "  <tbody>\n",
       "    <tr>\n",
       "      <th>1</th>\n",
       "      <td>1</td>\n",
       "      <td>One of the most helpful things in my own recov...</td>\n",
       "      <td>p</td>\n",
       "      <td>NaN</td>\n",
       "      <td>/blog/nocd-support-groups-finding-help-and-hop...</td>\n",
       "      <td>56</td>\n",
       "      <td>5</td>\n",
       "    </tr>\n",
       "    <tr>\n",
       "      <th>2</th>\n",
       "      <td>2</td>\n",
       "      <td>There is something powerful about knowing that...</td>\n",
       "      <td>p</td>\n",
       "      <td>NaN</td>\n",
       "      <td>/blog/nocd-support-groups-finding-help-and-hop...</td>\n",
       "      <td>60</td>\n",
       "      <td>4</td>\n",
       "    </tr>\n",
       "    <tr>\n",
       "      <th>3</th>\n",
       "      <td>3</td>\n",
       "      <td>Support is a key piece of your recovery journe...</td>\n",
       "      <td>p</td>\n",
       "      <td>NaN</td>\n",
       "      <td>/blog/nocd-support-groups-finding-help-and-hop...</td>\n",
       "      <td>78</td>\n",
       "      <td>4</td>\n",
       "    </tr>\n",
       "    <tr>\n",
       "      <th>5</th>\n",
       "      <td>5</td>\n",
       "      <td>Support groups may help you realize that you a...</td>\n",
       "      <td>p</td>\n",
       "      <td>You are not alone</td>\n",
       "      <td>/blog/nocd-support-groups-finding-help-and-hop...</td>\n",
       "      <td>85</td>\n",
       "      <td>5</td>\n",
       "    </tr>\n",
       "    <tr>\n",
       "      <th>6</th>\n",
       "      <td>6</td>\n",
       "      <td>This is one of the main reasons I continue to ...</td>\n",
       "      <td>p</td>\n",
       "      <td>You are not alone</td>\n",
       "      <td>/blog/nocd-support-groups-finding-help-and-hop...</td>\n",
       "      <td>77</td>\n",
       "      <td>4</td>\n",
       "    </tr>\n",
       "  </tbody>\n",
       "</table>\n",
       "</div>"
      ],
      "text/plain": [
       "   Unnamed: 0                                               text tag  \\\n",
       "1           1  One of the most helpful things in my own recov...   p   \n",
       "2           2  There is something powerful about knowing that...   p   \n",
       "3           3  Support is a key piece of your recovery journe...   p   \n",
       "5           5  Support groups may help you realize that you a...   p   \n",
       "6           6  This is one of the main reasons I continue to ...   p   \n",
       "\n",
       "           paragraph                                            article  \\\n",
       "1                NaN  /blog/nocd-support-groups-finding-help-and-hop...   \n",
       "2                NaN  /blog/nocd-support-groups-finding-help-and-hop...   \n",
       "3                NaN  /blog/nocd-support-groups-finding-help-and-hop...   \n",
       "5  You are not alone  /blog/nocd-support-groups-finding-help-and-hop...   \n",
       "6  You are not alone  /blog/nocd-support-groups-finding-help-and-hop...   \n",
       "\n",
       "   num_words  num_sentences  \n",
       "1         56              5  \n",
       "2         60              4  \n",
       "3         78              4  \n",
       "5         85              5  \n",
       "6         77              4  "
      ]
     },
     "execution_count": 2,
     "metadata": {},
     "output_type": "execute_result"
    }
   ],
   "source": [
    "blogs = pd.read_csv('blogs.csv')\n",
    "blogs['num_words'] = blogs['text'].str.split().str.len()\n",
    "blogs['num_sentences'] = blogs['text'].str.split('.').str.len()\n",
    "\n",
    "filtered_blogs = blogs[(blogs['num_words'] > 7) & (blogs['tag'] == 'p')]\n",
    "filtered_blogs.head()"
   ]
  },
  {
   "cell_type": "code",
   "execution_count": 3,
   "id": "b923cab5",
   "metadata": {},
   "outputs": [],
   "source": [
    "def get_text(df):\n",
    "    passages = []\n",
    "    for index, row in df.iterrows():\n",
    "        passages.append(row['text'])\n",
    "        \n",
    "    return passages"
   ]
  },
  {
   "cell_type": "code",
   "execution_count": 4,
   "id": "2d1347e1",
   "metadata": {},
   "outputs": [
    {
     "name": "stdout",
     "output_type": "stream",
     "text": [
      "One of the most helpful things in my own recovery journey has been hearing about other people’s experiences with OCD. This might be because we relish in stories of triumph and are drawn toward people with shared experiences. I think this is true for many things in life. Personally, I learn and grow from these stories.\n",
      "\n",
      "There is something powerful about knowing that someone else has walked the same path as you and that they have not only survived it, but possibly even thrived. I love hearing about the determination and grit of others who have faced similar obstacles. These stories of hope often inspired me to keep going, even when I didn’t think I could. \n",
      "\n",
      "Support is a key piece of your recovery journey. That’s why at NOCD, we provide a safe space for people in the OCD community and their families to share their experiences in our virtual support groups, which are available to members doing exposure and response prevention (ERP) therapy with NOCD Therapy. There are over 25 different groups to join, with sessions nearly every day of the week, dealing with themes ranging from living with OCD to relapse prevention.\n",
      "\n"
     ]
    }
   ],
   "source": [
    "passages = get_text(filtered_blogs)\n",
    "\n",
    "for i, passage in enumerate(passages):\n",
    "    print(passage + '\\n')\n",
    "    if i == 2: break"
   ]
  },
  {
   "cell_type": "code",
   "execution_count": 5,
   "id": "ac3a8b2c",
   "metadata": {},
   "outputs": [
    {
     "name": "stderr",
     "output_type": "stream",
     "text": [
      "/home/ubuntu/gitrepos/semantic-search/ENV/lib/python3.8/site-packages/tqdm/auto.py:22: TqdmWarning: IProgress not found. Please update jupyter and ipywidgets. See https://ipywidgets.readthedocs.io/en/stable/user_install.html\n",
      "  from .autonotebook import tqdm as notebook_tqdm\n"
     ]
    }
   ],
   "source": [
    "from transformers import AutoTokenizer, AutoModelForSeq2SeqLM\n",
    "\n",
    "model_name = 'doc2query/msmarco-t5-base-v1'\n",
    "\n",
    "tokenizer = AutoTokenizer.from_pretrained(model_name)\n",
    "model = AutoModelForSeq2SeqLM.from_pretrained(model_name).cuda()"
   ]
  },
  {
   "cell_type": "code",
   "execution_count": 6,
   "id": "232e7a77",
   "metadata": {},
   "outputs": [],
   "source": [
    "for passage in passages:\n",
    "    break\n",
    "\n",
    "# tokenize the passage\n",
    "inputs = tokenizer(passage, return_tensors='pt')\n",
    "# generate three queries\n",
    "outputs = model.generate(\n",
    "    input_ids=inputs['input_ids'].cuda(),\n",
    "    attention_mask=inputs['attention_mask'].cuda(),\n",
    "    max_length=64,\n",
    "    do_sample=True,\n",
    "    top_p=0.95,\n",
    "    num_return_sequences=3\n",
    ")"
   ]
  },
  {
   "cell_type": "code",
   "execution_count": 7,
   "id": "2e2d9e12",
   "metadata": {},
   "outputs": [
    {
     "name": "stdout",
     "output_type": "stream",
     "text": [
      "Paragraph:\n",
      "One of the most helpful things in my own recovery journey has been hearing about other people’s experiences with OCD. This might be because we relish in stories of triumph and are drawn toward people with shared experiences. I think this is true for many things in life. Personally, I learn and grow from these stories.\n",
      "\n",
      "Generated Queries:\n",
      "1: how do i recover from ocd\n",
      "2: does ocd affect your health\n",
      "3: can someone have ocd\n"
     ]
    }
   ],
   "source": [
    "print(\"Paragraph:\")\n",
    "print(passage)\n",
    "\n",
    "print(\"\\nGenerated Queries:\")\n",
    "for i in range(len(outputs)):\n",
    "    query = tokenizer.decode(outputs[i], skip_special_tokens=True)\n",
    "    print(f'{i + 1}: {query}')"
   ]
  },
  {
   "cell_type": "code",
   "execution_count": 8,
   "id": "6dc7e517",
   "metadata": {},
   "outputs": [
    {
     "name": "stderr",
     "output_type": "stream",
     "text": [
      "100%|██████████████████████████████████████████████████████████████████████████████████████████████████████████████████████████████████████| 3662/3662 [07:29<00:00,  8.15it/s]\n"
     ]
    }
   ],
   "source": [
    "from tqdm.auto import tqdm  # this is our progress bar\n",
    "\n",
    "batch_size = 128\n",
    "num_queries = 3  # number of queries to generate for each passage\n",
    "count = 0\n",
    "lines = []\n",
    "passage_batch = []\n",
    "\n",
    "# reinitialize passage generator\n",
    "passages = get_text(filtered_blogs)\n",
    "# target = len(list(passages))\n",
    "\n",
    "# print(f\"processed {count}/{len(list(passages))}\")\n",
    "for passage in tqdm(passages):\n",
    "    # remove tab + newline characters if present\n",
    "    passage_batch.append(passage.replace('\\t', ' ').replace('\\n', ' '))\n",
    "\n",
    "    # we encode in batches\n",
    "    if len(passage_batch) == batch_size:\n",
    "        # tokenize the passage\n",
    "        inputs = tokenizer(\n",
    "            passage_batch,\n",
    "            truncation=True,\n",
    "            padding=True,\n",
    "            max_length=256,\n",
    "            return_tensors='pt'\n",
    "        )\n",
    "\n",
    "        # generate three queries per doc/passage\n",
    "        outputs = model.generate(\n",
    "            input_ids=inputs['input_ids'].cuda(),\n",
    "            attention_mask=inputs['attention_mask'].cuda(),\n",
    "            max_length=64,\n",
    "            do_sample=True,\n",
    "            top_p=0.95,\n",
    "            num_return_sequences=num_queries\n",
    "        )\n",
    "\n",
    "        # decode query to human readable text\n",
    "        decoded_output = tokenizer.batch_decode(\n",
    "            outputs,\n",
    "            skip_special_tokens=True\n",
    "        )\n",
    "\n",
    "        # loop through to pair query and passages\n",
    "        for i, query in enumerate(decoded_output):\n",
    "            query = query.replace('\\t', ' ').replace('\\n', ' ')  # remove newline + tabs\n",
    "            passage_idx = int(i/num_queries)  # get index of passage to match query\n",
    "            lines.append((query,passage_batch[passage_idx]))\n",
    "            count += 1\n",
    "\n",
    "        passage_batch = []\n",
    "#             progress.update(len(decoded_output))\n",
    "#         print(f\"processed {count}/{len(decoded_output)}\")"
   ]
  },
  {
   "cell_type": "code",
   "execution_count": 10,
   "id": "68485274",
   "metadata": {},
   "outputs": [],
   "source": [
    "query_passage_df = pd.DataFrame(lines, columns=[\"query\", \"passage\"])"
   ]
  },
  {
   "cell_type": "code",
   "execution_count": 11,
   "id": "fd674bbb",
   "metadata": {},
   "outputs": [
    {
     "data": {
      "text/html": [
       "<div>\n",
       "<style scoped>\n",
       "    .dataframe tbody tr th:only-of-type {\n",
       "        vertical-align: middle;\n",
       "    }\n",
       "\n",
       "    .dataframe tbody tr th {\n",
       "        vertical-align: top;\n",
       "    }\n",
       "\n",
       "    .dataframe thead th {\n",
       "        text-align: right;\n",
       "    }\n",
       "</style>\n",
       "<table border=\"1\" class=\"dataframe\">\n",
       "  <thead>\n",
       "    <tr style=\"text-align: right;\">\n",
       "      <th></th>\n",
       "      <th>query</th>\n",
       "      <th>passage</th>\n",
       "    </tr>\n",
       "  </thead>\n",
       "  <tbody>\n",
       "    <tr>\n",
       "      <th>0</th>\n",
       "      <td>what does ocd mean</td>\n",
       "      <td>One of the most helpful things in my own recov...</td>\n",
       "    </tr>\n",
       "    <tr>\n",
       "      <th>1</th>\n",
       "      <td>is it good to talk about an ocd</td>\n",
       "      <td>One of the most helpful things in my own recov...</td>\n",
       "    </tr>\n",
       "    <tr>\n",
       "      <th>2</th>\n",
       "      <td>does ocd really help recovery</td>\n",
       "      <td>One of the most helpful things in my own recov...</td>\n",
       "    </tr>\n",
       "    <tr>\n",
       "      <th>3</th>\n",
       "      <td>what is being a positive person</td>\n",
       "      <td>There is something powerful about knowing that...</td>\n",
       "    </tr>\n",
       "    <tr>\n",
       "      <th>4</th>\n",
       "      <td>who is an inspirational person</td>\n",
       "      <td>There is something powerful about knowing that...</td>\n",
       "    </tr>\n",
       "  </tbody>\n",
       "</table>\n",
       "</div>"
      ],
      "text/plain": [
       "                             query  \\\n",
       "0               what does ocd mean   \n",
       "1  is it good to talk about an ocd   \n",
       "2    does ocd really help recovery   \n",
       "3  what is being a positive person   \n",
       "4   who is an inspirational person   \n",
       "\n",
       "                                             passage  \n",
       "0  One of the most helpful things in my own recov...  \n",
       "1  One of the most helpful things in my own recov...  \n",
       "2  One of the most helpful things in my own recov...  \n",
       "3  There is something powerful about knowing that...  \n",
       "4  There is something powerful about knowing that...  "
      ]
     },
     "execution_count": 11,
     "metadata": {},
     "output_type": "execute_result"
    }
   ],
   "source": [
    "query_passage_df.head()"
   ]
  },
  {
   "cell_type": "code",
   "execution_count": 12,
   "id": "ea9c3498",
   "metadata": {},
   "outputs": [],
   "source": [
    "query_passage_df.to_csv('query_passage.csv')"
   ]
  },
  {
   "cell_type": "code",
   "execution_count": null,
   "id": "29798725",
   "metadata": {},
   "outputs": [],
   "source": []
  }
 ],
 "metadata": {
  "kernelspec": {
   "display_name": "Python 3 (ipykernel)",
   "language": "python",
   "name": "python3"
  },
  "language_info": {
   "codemirror_mode": {
    "name": "ipython",
    "version": 3
   },
   "file_extension": ".py",
   "mimetype": "text/x-python",
   "name": "python",
   "nbconvert_exporter": "python",
   "pygments_lexer": "ipython3",
   "version": "3.8.10"
  }
 },
 "nbformat": 4,
 "nbformat_minor": 5
}
