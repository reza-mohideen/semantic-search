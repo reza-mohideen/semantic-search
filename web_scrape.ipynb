{
 "cells": [
  {
   "cell_type": "markdown",
   "id": "b9ec8ee0",
   "metadata": {},
   "source": [
    "# Pre-Requisites"
   ]
  },
  {
   "cell_type": "code",
   "execution_count": null,
   "id": "a1a5ea90-f63b-44d9-8abb-d8545cc68c29",
   "metadata": {
    "tags": []
   },
   "outputs": [],
   "source": [
    "!pip3 install beautifulsoup4 pandas"
   ]
  },
  {
   "cell_type": "code",
   "execution_count": null,
   "id": "8a8be4b7-26b5-49d5-a0fb-f8e45fa15c00",
   "metadata": {},
   "outputs": [],
   "source": [
    "!jupyter nbextension enable --py widgetsnbextension"
   ]
  },
  {
   "cell_type": "code",
   "execution_count": 2,
   "id": "37b6cd92-b1c2-426b-83cf-5eecd277a8d8",
   "metadata": {},
   "outputs": [
    {
     "name": "stderr",
     "output_type": "stream",
     "text": [
      "/home/rezamohideen/myProjects/semantic-search/ENV/lib/python3.8/site-packages/tqdm/auto.py:22: TqdmWarning: IProgress not found. Please update jupyter and ipywidgets. See https://ipywidgets.readthedocs.io/en/stable/user_install.html\n",
      "  from .autonotebook import tqdm as notebook_tqdm\n"
     ]
    }
   ],
   "source": [
    "from sentence_transformers import SentenceTransformer\n",
    "from transformers import AutoTokenizer, AutoModel\n",
    "import torch\n",
    "import torch.nn.functional as F\n",
    "from tqdm import tqdm\n",
    "from bs4 import BeautifulSoup as bs\n",
    "import requests"
   ]
  },
  {
   "cell_type": "code",
   "execution_count": 3,
   "id": "48b797cd-13db-488e-9ee6-be5295d90f98",
   "metadata": {},
   "outputs": [
    {
     "name": "stderr",
     "output_type": "stream",
     "text": [
      "100%|██████████| 3/3 [00:00<00:00,  3.84it/s]"
     ]
    },
    {
     "name": "stdout",
     "output_type": "stream",
     "text": [
      "241\n"
     ]
    },
    {
     "name": "stderr",
     "output_type": "stream",
     "text": [
      "\n"
     ]
    }
   ],
   "source": [
    "nocd = \"https://www.treatmyocd.com\"\n",
    "all_articles = \"https://www.treatmyocd.com/learn/blog\"\n",
    "blog_categories = set()\n",
    "\n",
    "resp = requests.get(all_articles)\n",
    "soup = bs(resp.text, \"html.parser\")\n",
    "for tag in soup.find_all(): \n",
    "    if tag.name == 'a' and 'href' in tag.attrs:\n",
    "        if 'blog/category' in tag['href']:\n",
    "            blog_categories.add(tag['href'])\n",
    "\n",
    "articles = set()\n",
    "for cat in tqdm(blog_categories):\n",
    "    resp = requests.get(nocd + cat)\n",
    "    soup = bs(resp.text, \"html.parser\")\n",
    "    for tag in soup.find_all(): \n",
    "        if tag.name == 'a' and 'href' in tag.attrs:\n",
    "            if 'blog/' in tag['href']:\n",
    "                articles.add(tag['href'])\n",
    "                \n",
    "print(len(articles))"
   ]
  },
  {
   "cell_type": "code",
   "execution_count": 187,
   "id": "3ba01012",
   "metadata": {},
   "outputs": [],
   "source": [
    "blog_text = ['p', 'h1', 'h2', 'h3', 'h4', 'h5', 'h6', None]\n",
    "paragraph_headings = ['h2', 'h3', 'h4', 'h5', 'h6']\n",
    "\n",
    "def extract_text_v2(soup, article_name):\n",
    "    article = soup.select('article')\n",
    "    article = article[0].select('div[class*=\"Post\"]')\n",
    "    title = [((article[0].find_all('h1'))[0].text, 'h1', 'title', article_name)]\n",
    "    body = soup.select('div[class*=\"Body\"]')\n",
    "\n",
    "    curr_paragraph = None\n",
    "    lines = []\n",
    "    for content in body[0].contents:\n",
    "        if content.name in blog_text:\n",
    "            try:\n",
    "                # get text contents\n",
    "                line = content.getText()\n",
    "                # ignore \\n characters and empty spaces\n",
    "                if len(line.split()) > 1:\n",
    "                    # append styles like bold (<em>), links (<a>), etc. to previous ine\n",
    "                    if content.name not in blog_text:\n",
    "                        lines[-1] += line\n",
    "                        continue\n",
    "                    # grab paragraph name\n",
    "                    if content.name in paragraph_headings:\n",
    "                        curr_paragraph = line\n",
    "\n",
    "                    lines.append((line, content.name, curr_paragraph, article_name))\n",
    "                    assert len(lines[-1]) == 4, f\"Line should only contain 4 objects; {article_name}\"\n",
    "            except Exception:\n",
    "                lines.append(content)\n",
    "\n",
    "            \n",
    "\n",
    "    # body = (body[0].text).split(\"\\n\")\n",
    "\n",
    "    return title + lines"
   ]
  },
  {
   "cell_type": "code",
   "execution_count": 188,
   "id": "fac6bb06-bac9-4ccc-b2c4-801a553f0a83",
   "metadata": {
    "scrolled": false
   },
   "outputs": [
    {
     "name": "stderr",
     "output_type": "stream",
     "text": [
      "100%|██████████| 241/241 [02:50<00:00,  1.41it/s]\n"
     ]
    }
   ],
   "source": [
    "\n",
    "# for article in articles:\n",
    "#     resp = requests.get(nocd + article)\n",
    "#     soup = bs(resp.text, \"html.parser\")\n",
    "#     for tag in soup.find_all():\n",
    "#         if tag.name == 'article':\n",
    "#             for t in tag.find_all('div'):\n",
    "#                 print(t.attrs)\n",
    "\n",
    "blogs = []\n",
    "for article in tqdm(articles):\n",
    "    if article not in blog_categories:\n",
    "        # print(article)\n",
    "        resp = requests.get(nocd + article)\n",
    "        soup = bs(resp.text, \"html.parser\")\n",
    "        blog = extract_text_v2(soup, article)\n",
    "        blogs += blog\n",
    "\n"
   ]
  },
  {
   "cell_type": "code",
   "execution_count": 191,
   "id": "f452017a-f669-45af-b2f7-2f5c47d1f48b",
   "metadata": {},
   "outputs": [],
   "source": [
    "import pandas as pd \n",
    "\n",
    "df = pd.DataFrame(blogs, columns=['text', 'tag', 'paragraph', 'article'])"
   ]
  },
  {
   "cell_type": "code",
   "execution_count": 194,
   "id": "c7fa56c9",
   "metadata": {},
   "outputs": [
    {
     "data": {
      "text/plain": [
       "5233"
      ]
     },
     "execution_count": 194,
     "metadata": {},
     "output_type": "execute_result"
    }
   ],
   "source": []
  },
  {
   "cell_type": "code",
   "execution_count": null,
   "id": "ad6e73f8",
   "metadata": {},
   "outputs": [],
   "source": []
  },
  {
   "cell_type": "code",
   "execution_count": null,
   "id": "2a18c926",
   "metadata": {},
   "outputs": [],
   "source": []
  }
 ],
 "metadata": {
  "kernelspec": {
   "display_name": "Python 3.8.10 ('ENV': venv)",
   "language": "python",
   "name": "python3"
  },
  "language_info": {
   "codemirror_mode": {
    "name": "ipython",
    "version": 3
   },
   "file_extension": ".py",
   "mimetype": "text/x-python",
   "name": "python",
   "nbconvert_exporter": "python",
   "pygments_lexer": "ipython3",
   "version": "3.8.10"
  },
  "vscode": {
   "interpreter": {
    "hash": "876a2fd22e9efeae2400b15fdef46235738e26446a244235c52059b002c44980"
   }
  }
 },
 "nbformat": 4,
 "nbformat_minor": 5
}
